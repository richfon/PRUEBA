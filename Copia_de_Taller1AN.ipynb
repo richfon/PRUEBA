{
  "nbformat": 4,
  "nbformat_minor": 0,
  "metadata": {
    "colab": {
      "name": "Copia de Taller1AN.ipynb",
      "provenance": [],
      "collapsed_sections": [],
      "include_colab_link": true
    },
    "kernelspec": {
      "name": "python3",
      "display_name": "Python 3"
    },
    "language_info": {
      "name": "python"
    }
  },
  "cells": [
    {
      "cell_type": "markdown",
      "metadata": {
        "id": "view-in-github",
        "colab_type": "text"
      },
      "source": [
        "<a href=\"https://colab.research.google.com/github/richfon/PRUEBA/blob/main/Copia_de_Taller1AN.ipynb\" target=\"_parent\"><img src=\"https://colab.research.google.com/assets/colab-badge.svg\" alt=\"Open In Colab\"/></a>"
      ]
    },
    {
      "cell_type": "code",
      "metadata": {
        "colab": {
          "base_uri": "https://localhost:8080/",
          "height": 265
        },
        "id": "eyxlEQmGPyxL",
        "outputId": "596848be-014f-4c66-8ee8-8f16b0cceb86"
      },
      "source": [
        "from matplotlib import pyplot\n",
        "import math\n",
        "import numpy as np\n",
        "\n",
        "def f(x):\n",
        "  #return (np.cos(x)**2) - x**2\n",
        "  #return e**x-x-1\n",
        "  return x**3 - 2*x**2 + (4/3)*x - (8/27)\n",
        "  #return x**3-2*x-5\n",
        "  #return 3*np.sin(x)**3 - 1\n",
        "def f1(x):\n",
        "  return 4*np.sin(x)*np.cos(x)\n",
        "x = np.arange (-math.pi,math.pi,0.1)\n",
        "pyplot.plot (x, [f(i) for i in x])\n",
        "#pyplot.plot (x, [f1(i) for i in x])\n",
        "pyplot.axhline(0,color = \"black\")\n",
        "pyplot.axvline(0,color = \"black\")\n",
        "pyplot.show()"
      ],
      "execution_count": null,
      "outputs": [
        {
          "output_type": "display_data",
          "data": {
            "image/png": "[encoded data removed]",
            "text/plain": [
              "<Figure size 432x288 with 1 Axes>"
            ]
          },
          "metadata": {
            "needs_background": "light"
          }
        }
      ]
    },
    {
      "cell_type": "code",
      "metadata": {
        "colab": {
          "base_uri": "https://localhost:8080/"
        },
        "id": "LpF_O2QYaAj3",
        "outputId": "058f0d7c-3985-4394-a3a3-54a8e64bdc69"
      },
      "source": [
        "import matplotlib.pyplot as plt\n",
        "import numpy as np\n",
        "from math import e\n",
        "tol = 1.0e-8\n",
        "\n",
        "opc = 0\n",
        "\n",
        "def Funcion_Halley(opc):\n",
        "    iteraciones = 0\n",
        "    if opc == 1: \n",
        "        def f(x):\n",
        "            return (np.cos(x)*2) - x*2\n",
        "    \n",
        "        def fp(x):\n",
        "            return -2*np.cos(x)*np.sin(x)-2*x\n",
        "    \n",
        "        def fpp(x):\n",
        "            return 2*(np.sin(x)*2*np.cos(x)*2-1)\n",
        "        \n",
        "        x = 1.2\n",
        "\n",
        "        while True:\n",
        "            iteraciones= iteraciones+1\n",
        "            fx = np.longdouble(f(x))\n",
        "            fpx = np.longdouble(fp(x))\n",
        "            xnew = np.longdouble(x - (2.0 * fx * fpx) /\n",
        "                         (2.0 * fpx * fpx - fx * fpp(x)))\n",
        "            #print(xnew)\n",
        "            if abs(xnew - x) <= tol:\n",
        "                break\n",
        "            x = xnew\n",
        "        print('Raiz:', xnew)\n",
        "        print('Numero de iteraciones:', iteraciones)\n",
        "\n",
        "\n",
        "    elif opc == 2:\n",
        "        def f(x):\n",
        "          return e**x-x-1\n",
        "\n",
        "        def fp(x):\n",
        "            return e**x-1\n",
        "\n",
        "        def fpp(x):\n",
        "            return e**x\n",
        "        x = 1.2\n",
        "        while True:\n",
        "            iteraciones= iteraciones+1\n",
        "            fx = np.longdouble(f(x))\n",
        "            fpx = np.longdouble(fp(x))\n",
        "            xnew = np.longdouble(x - (2.0 * fx * fpx) /\n",
        "                         (2.0 * fpx * fpx - fx * fpp(x)))\n",
        "            #print(xnew)\n",
        "            if abs(xnew - x) <= tol:\n",
        "                break\n",
        "            x = xnew\n",
        "        print('Raiz:', xnew)\n",
        "        print('Numero de iteraciones:', iteraciones)\n",
        "    \n",
        "    elif opc == 3:\n",
        "        def f(x):\n",
        "            return x**3- 2*x*2 + (4/3)*x - (8/27)\n",
        "\n",
        "        def fp(x):\n",
        "            return 3*x**2 - 4*x + 4/3\n",
        "\n",
        "        def fpp(x):\n",
        "            return 6*x-4\n",
        "        x = 1.2\n",
        "        while True:\n",
        "            iteraciones= iteraciones+1\n",
        "            fx = np.longdouble(f(x))\n",
        "            fpx = np.longdouble(fp(x))\n",
        "            xnew = np.longdouble(x - (2.0 * fx * fpx) /\n",
        "                         (2.0 * fpx * fpx - fx * fpp(x)))\n",
        "            #print(xnew)\n",
        "            if abs(xnew - x) <= tol:\n",
        "                break\n",
        "            x = xnew\n",
        "        print('Raiz:', xnew)\n",
        "        print('Numero de iteraciones:', iteraciones)\n",
        "\n",
        "    elif opc == 4:\n",
        "        def f(x):\n",
        "            return 3*np.sin(x)**3 - 1 - 4*np.sin(x)*np.cos(x)\n",
        "\n",
        "        def fp(x):\n",
        "            return 9*np.cos(x)*(np.sin(x)**2) + 4*(np.sin(x)**2) - 4*(np.cos(x)**2)\n",
        "\n",
        "        def fpp(x):\n",
        "            return -9*(np.sin(x)**3) + 2*np.cos(x)*(9*np.cos(x) + 4) * np.sin(x) + 8*np.sin(x)*np.cos(x)\n",
        "        x = 1.2\n",
        "        while True:\n",
        "            iteraciones= iteraciones+1\n",
        "            fx = np.longdouble(f(x))\n",
        "            fpx = np.longdouble(fp(x))\n",
        "            xnew = np.longdouble(x - (2.0 * fx * fpx) /\n",
        "                         (2.0 * fpx * fpx - fx * fpp(x)))\n",
        "            #print(xnew)\n",
        "            if abs(xnew - x) <= tol:\n",
        "                break\n",
        "            x = xnew\n",
        "        print('Raiz:', xnew)\n",
        "        print('Numero de iteraciones:', iteraciones)\n",
        "\n",
        "\n",
        "def menu(): \n",
        "   opc = int(input(\"Selecciona la formula que deseas evaluar: \\n\"\n",
        "                        \"1. cos((x)^2)-x^2 \\n\" + \n",
        "                        \"2. e^x-x-1\\n\" +\n",
        "                        \"3. x^3-2x^2+4/3x-8/27\\n\" +\n",
        "                        \"4. Interseccion entre y = 3sin^3(x) - 1 y = 4sin(x)cos(x) \"\"))\n",
        "   Funcion_Halley(opc)\n",
        "   return opc\n",
        "print (menu()) \n",
        "\n"
      ],
      "execution_count": null,
      "outputs": [
        {
          "output_type": "stream",
          "text": [
            "Selecciona la formula que deseas evaluar: \n",
            "1. cos((x)^2)-x^2 \n",
            "2. e^x-x-1\n",
            "3. x^3-2x^2+4/3x-8/27\n",
            "1\n",
            "Raiz: 0.7390851344609408867\n",
            "Numero de iteraciones: 18\n",
            "1\n"
          ],
          "name": "stdout"
        }
      ]
    },
    {
      "cell_type": "code",
      "metadata": {
        "colab": {
          "base_uri": "https://localhost:8080/"
        },
        "id": "kvhSDxYsG1Yj",
        "outputId": "de40c4f8-5baf-4ab3-a640-63984c413fdc"
      },
      "source": [
        "import numpy as np\n",
        "\n",
        "def Biseccion(f, a, b, t=1.0e-8):\n",
        "    iteraciones = 0\n",
        "    x = (a + b) / 2.0\n",
        "    while True:\n",
        "        iteraciones += 1\n",
        "        if b - a < t:\n",
        "            print ('Numero de iteraciones:',iteraciones)\n",
        "            print ('Toleracia: ', t)\n",
        "            return x\n",
        "        elif f(a) * f(x) > 0:\n",
        "            a = np.longdouble(x)\n",
        "        else:\n",
        "            b = np.longdouble(x)\n",
        "        x = np.longdouble((a + b) / 2.0)\n",
        "        \n",
        "def f1(x):\n",
        "  #return (np.cos(x)**2) - x**2\n",
        "  #return e**x-x-1\n",
        "  return x**3 - 2*x**2 + (4/3)*x - (8/27)\n",
        "  #return x**3-2*x-5\n",
        "\n",
        "Biseccion(f1,0,1)\n"
      ],
      "execution_count": null,
      "outputs": [
        {
          "output_type": "stream",
          "text": [
            "Numero de iteraciones: 28\n",
            "Toleracia:  1e-08\n"
          ],
          "name": "stdout"
        },
        {
          "output_type": "execute_result",
          "data": {
            "text/plain": [
              "0.66666987165808677673"
            ]
          },
          "metadata": {},
          "execution_count": 19
        }
      ]
    },
    {
      "cell_type": "code",
      "metadata": {
        "id": "vBvbVx5z_Wqn",
        "colab": {
          "base_uri": "https://localhost:8080/"
        },
        "outputId": "f5353340-20d9-4bcf-bb96-aec975e5532e"
      },
      "source": [
        "import numpy as np\n",
        "from math import e\n",
        "tol = 1.0e-56\n",
        "iteraciones = 0\n",
        "\n",
        "def f(x):\n",
        "    #return (np.cos(x)**2) - x**2\n",
        "    #return e**x-x-1\n",
        "    #return x**3 - 2*x**2 + (4/3)*x - (8/27)\n",
        "    return x**3-2*x-5\n",
        "    #return 3*np.sin(x)**3 - 1 - 4*np.sin(x)*np.cos(x)\n",
        "\n",
        "def fp(x):\n",
        "    #return -2*np.cos(x)*np.sin(x)-2*x\n",
        "    #return e**x-1\n",
        "    #return 3*x**2 - 4*x + 4/3\n",
        "    return 3*x**2-2\n",
        "    #return 9*np.cos(x)*(np.sin(x)**2) + 4*(np.sin(x)**2) - 4*(np.cos(x)**2)\n",
        "\n",
        "def fpp(x):\n",
        "    #return 2*(np.sin(x)**2*np.cos(x)**2-1)\n",
        "    #return e**x\n",
        "    #return 6*x-4\n",
        "    return 6*x\n",
        "    #return -9*(np.sin(x)**3) + 2*np.cos(x)*(9*np.cos(x) + 4) * np.sin(x) + 8*np.sin(x)*np.cos(x)\n",
        "\n",
        "x = 0.5\n",
        "\n",
        "while True:\n",
        "    iteraciones += 1\n",
        "    fx = np.longdouble(f(x))\n",
        "    fpx = np.longdouble(fp(x))\n",
        "    xnew = np.longdouble( x - (2.0 * fx * fpx) / (2.0 * fpx * fpx - fx * fpp(x)))\n",
        "    #print (xnew)\n",
        "    if abs(xnew - x) <= tol: break\n",
        "    x = np.longdouble(xnew)\n",
        "\n",
        "print('Eps maq: ',np.finfo(np.longdouble).eps)\n",
        "print ('Raiz:', \"{:.56f}\".format(xnew))\n",
        "print ( 'Tolerancia', tol)\n",
        "print ('Numero de iteraciones:',iteraciones)"
      ],
      "execution_count": null,
      "outputs": [
        {
          "output_type": "stream",
          "text": [
            "Eps maq:  1.084202172485504434e-19\n",
            "Raiz: 2.09455148154232650981043661886360496282577514648437500000\n",
            "Tolerancia 0.01\n",
            "Numero de iteraciones: 9\n"
          ],
          "name": "stdout"
        }
      ]
    },
    {
      "cell_type": "code",
      "metadata": {
        "colab": {
          "base_uri": "https://localhost:8080/"
        },
        "id": "5eg2hcAHbkCP",
        "outputId": "a59d259f-08a5-4f48-8b45-9f31630f5864"
      },
      "source": [
        "from math import e\n",
        "def bisect(f,a,b, TOL):\n",
        "    #if (f(a)*f(b) >= 0):\n",
        "     #   print(\"You have not assumed the right interval.\")\n",
        "      #  return\n",
        "    mid = np.longdouble(a)\n",
        "    iterations = 0\n",
        "    while ((b-a) >= TOL):\n",
        "        mid = np.longdouble((a+b)/2)\n",
        "        result = np.longdouble(f(mid))\n",
        "        # Check if middle point is root\n",
        "        if (result == 0):\n",
        "            break\n",
        "        # Decide the side to repeat the steps\n",
        "        if (result*f(a) < 0):\n",
        "            b = np.longdouble(mid)\n",
        "        else:\n",
        "            a = np.longdouble(mid)\n",
        "        iterations += 1\n",
        "        #print(mid)\n",
        "        print(f'P{iterations}: {mid:.56f}\\tResult: {result}')\n",
        "    print(f'Root: {mid:.56f}\\nIterations: {iterations}')\n",
        "    #print ('Raiz:', mid)\n",
        "    print ( 'Tolerancia', TOL)\n",
        "    #print ('Numero de iteraciones:', iterations)\n",
        "def f(x):\n",
        "  return (np.cos(x)**2) - x**2\n",
        "  #return e**x-x-1\n",
        "  #return x**3 - 2*x**2 + (4/3)*x - (8/27)\n",
        "  #return x**3-2*x-5\n",
        "\n",
        "bisect(f, 0, 1, 1.0e-56)"
      ],
      "execution_count": null,
      "outputs": [
        {
          "output_type": "stream",
          "text": [
            "P1: 0.50000000000000000000000000000000000000000000000000000000\tResult: 0.5201511529340699\n",
            "P2: 0.75000000000000000000000000000000000000000000000000000000\tResult: -0.027131399166148543\n",
            "P3: 0.62500000000000000000000000000000000000000000000000000000\tResult: 0.26703618119763434\n",
            "P4: 0.68750000000000000000000000000000000000000000000000000000\tResult: 0.12461760399449359\n",
            "P5: 0.71875000000000000000000000000000000000000000000000000000\tResult: 0.0498494097264126\n",
            "P6: 0.73437500000000000000000000000000000000000000000000000000\tResult: 0.011628014318220563\n",
            "P7: 0.74218750000000000000000000000000000000000000000000000000\tResult: -0.007685389199118412\n",
            "P8: 0.73828125000000000000000000000000000000000000000000000000\tResult: 0.001988007108254561\n",
            "P9: 0.74023437500000000000000000000000000000000000000000000000\tResult: -0.0028445322446175913\n",
            "P10: 0.73925781250000000000000000000000000000000000000000000000\tResult: -0.0004272210130101543\n",
            "P11: 0.73876953125000000000000000000000000000000000000000000000\tResult: 0.000780653668249736\n",
            "P12: 0.73901367187500000000000000000000000000000000000000000000\tResult: 0.00017678145379897955\n",
            "P13: 0.73913574218750000000000000000000000000000000000000000000\tResult: -0.00012520350168314636\n",
            "P14: 0.73907470703125000000000000000000000000000000000000000000\tResult: 2.57930459913278e-05\n",
            "P15: 0.73910522460937500000000000000000000000000000000000000000\tResult: -4.9704210419156244e-05\n",
            "P16: 0.73908996582031250000000000000000000000000000000000000000\tResult: -1.1955327850151016e-05\n",
            "P17: 0.73908233642578125000000000000000000000000000000000000000\tResult: 6.9189226624136115e-06\n",
            "P18: 0.73908615112304687500000000000000000000000000000000000000\tResult: -2.518186696022918e-06\n",
            "P19: 0.73908424377441406250000000000000000000000000000000000000\tResult: 2.2003719576705553e-06\n",
            "P20: 0.73908519744873046875000000000000000000000000000000000000\tResult: -1.5890637555907331e-07\n",
            "P21: 0.73908472061157226562500000000000000000000000000000000000\tResult: 1.0207330394602552e-06\n",
            "P22: 0.73908495903015136718750000000000000000000000000000000000\tResult: 4.309133940516314e-07\n",
            "P23: 0.73908507823944091796875000000000000000000000000000000000\tResult: 1.3600352477153915e-07\n",
            "P24: 0.73908513784408569335937500000000000000000000000000000000\tResult: -1.1451421512485935e-08\n",
            "P25: 0.73908510804176330566406250000000000000000000000000000000\tResult: 6.227605259988755e-08\n",
            "P26: 0.73908512294292449951171875000000000000000000000000000000\tResult: 2.5412315786291044e-08\n",
            "P27: 0.73908513039350509643554687500000000000000000000000000000\tResult: 6.980447197536561e-09\n",
            "P28: 0.73908513411879539489746093750000000000000000000000000000\tResult: -2.235487142295857e-09\n",
            "P29: 0.73908513225615024566650390625000000000000000000000000000\tResult: 2.3724800314421646e-09\n",
            "P30: 0.73908513318747282028198242187500000000000000000000000000\tResult: 6.849644554893577e-11\n",
            "P31: 0.73908513365313410758972167968750000000000000000000000000\tResult: -1.083495348129515e-09\n",
            "P32: 0.73908513342030346393585205078125000000000000000000000000\tResult: -5.074994512631846e-10\n",
            "P33: 0.73908513330388814210891723632812500000000000000000000000\tResult: -2.1950150285712441e-10\n",
            "P34: 0.73908513324568048119544982910156250000000000000000000000\tResult: -7.550252865409432e-11\n",
            "P35: 0.73908513321657665073871612548828125000000000000000000000\tResult: -3.5030415525792724e-12\n",
            "P36: 0.73908513320202473551034927368164062500000000000000000000\tResult: 3.249670194396814e-11\n",
            "P37: 0.73908513320930069312453269958496093750000000000000000000\tResult: 1.449683022279949e-11\n",
            "P38: 0.73908513321293867193162441253662109375000000000000000000\tResult: 5.4968943351101085e-12\n",
            "P39: 0.73908513321475766133517026901245117187500000000000000000\tResult: 9.969264454755267e-13\n",
            "P40: 0.73908513321566715603694319725036621093750000000000000000\tResult: -1.2530576077619815e-12\n",
            "P41: 0.73908513321521240868605673313140869140625000000000000000\tResult: -1.2806563535333604e-13\n",
            "P42: 0.73908513321498503501061350107192993164062500000000000000\tResult: 4.34430377956041e-13\n",
            "P43: 0.73908513321509872184833511710166931152343750000000000000\tResult: 1.5318237130135248e-13\n",
            "P44: 0.73908513321515556526719592511653900146484375000000000000\tResult: 1.2558422184116846e-14\n",
            "P45: 0.73908513321518398697662632912397384643554687500000000000\tResult: -5.77536065846096e-14\n",
            "P46: 0.73908513321516977612191112712025642395019531250000000000\tResult: -2.2597646410355e-14\n",
            "P47: 0.73908513321516267069455352611839771270751953125000000000\tResult: -5.019585008064764e-15\n",
            "P48: 0.73908513321515911798087472561746835708618164062500000000\tResult: 3.769391482971729e-15\n",
            "P49: 0.73908513321516089433771412586793303489685058593750000000\tResult: -6.250967625465176e-16\n",
            "P50: 0.73908513321516000615929442574270069599151611328125000000\tResult: 1.5720931501039814e-15\n",
            "P51: 0.73908513321516045024850427580531686544418334960937500000\tResult: 4.735252988330441e-16\n",
            "P52: 0.73908513321516067229310920083662495017051696777343750000\tResult: -7.583994196536104e-17\n",
            "P53: 0.73908513321516056127080673832097090780735015869140625000\tResult: 1.9884267843384151e-16\n",
            "P54: 0.73908513321516067229310920083662495017051696777343750000\tResult: 6.152847328855238e-17\n",
            "P55: 0.73908513321516067229310920083662495017051696777343750000\tResult: -7.15573433840433e-18\n",
            "P56: 0.73908513321516067229310920083662495017051696777343750000\tResult: 2.7159264420761886e-17\n",
            "P57: 0.73908513321516067229310920083662495017051696777343750000\tResult: 1.0028870095490916e-17\n",
            "P58: 0.73908513321516067229310920083662495017051696777343750000\tResult: 1.463672932855431e-18\n",
            "P59: 0.73908513321516067229310920083662495017051696777343750000\tResult: -2.8189256484623115e-18\n",
            "P60: 0.73908513321516067229310920083662495017051696777343750000\tResult: -7.047314121155779e-19\n",
            "P61: 0.73908513321516067229310920083662495017051696777343750000\tResult: 4.336808689942018e-19\n",
            "P62: 0.73908513321516067229310920083662495017051696777343750000\tResult: -1.6263032587282567e-19\n",
            "P63: 0.73908513321516067229310920083662495017051696777343750000\tResult: 1.0842021724855044e-19\n",
            "Root: 0.73908513321516067229310920083662495017051696777343750000\n",
            "Iterations: 63\n",
            "Tolerancia 1e-56\n"
          ],
          "name": "stdout"
        }
      ]
    }
  ]
}